{
 "cells": [
  {
   "cell_type": "markdown",
   "metadata": {},
   "source": [
    "### Finding Numbers in a Haystack"
   ]
  },
  {
   "cell_type": "code",
   "execution_count": 1,
   "metadata": {},
   "outputs": [
    {
     "name": "stdout",
     "output_type": "stream",
     "text": [
      "291775\n"
     ]
    }
   ],
   "source": [
    "import re\n",
    "pile = open('regex_sum_952396.txt')\n",
    "gold = pile.read()\n",
    "copier = re.findall(\"[0-9]+\", gold)\n",
    "dice = [int(i) for i in copier]\n",
    "sum = 0\n",
    "for k in dice:\n",
    "    sum += k\n",
    "print(sum)"
   ]
  },
  {
   "cell_type": "markdown",
   "metadata": {},
   "source": [
    "### Understanding the Request / Response Cycle"
   ]
  },
  {
   "cell_type": "code",
   "execution_count": 3,
   "metadata": {},
   "outputs": [
    {
     "name": "stdout",
     "output_type": "stream",
     "text": [
      "HTTP/1.1 200 OK\r\n",
      "Date: Mon, 07 Sep 2020 06:30:02 GMT\r\n",
      "Server: Apache/2.4.18 (Ubuntu)\r\n",
      "Last-Modified: Sat, 13 May 2017 11:22:22 GMT\r\n",
      "ETag: \"1d3-54f6609240717\"\r\n",
      "Accept-Ranges: bytes\r\n",
      "Content-Length: 467\r\n",
      "Cache-Control: max-age=0, no-cache, no-store, must-revalidate\r\n",
      "Pragma: no-cache\r\n",
      "Expires: Wed, 11 Jan 1984 05:00:00 GMT\r\n",
      "Connection: close\r\n",
      "Content-Type: text/plain\r\n",
      "\r\n",
      "Why should you learn to write programs?\n",
      "\n",
      "Writing programs (or programming) is a very creative \n",
      "and rewarding activity.  You can write programs for \n",
      "many reasons, ranging from making your living to solving\n",
      "a difficult data analysis problem to having fun to helping\n",
      "someone else solve a problem.  This book assumes that \n",
      "everyone needs to know how to program, and that once \n",
      "you know how to program you will figure out what you want \n",
      "to do with your newfound skills.  \n"
     ]
    }
   ],
   "source": [
    "import socket\n",
    "\n",
    "mysock = socket.socket(socket.AF_INET, socket.SOCK_STREAM)\n",
    "mysock.connect(('data.pr4e.org', 80))\n",
    "cmd = 'GET http://data.pr4e.org/intro-short.txt HTTP/1.0\\r\\n\\r\\n'.encode()\n",
    "mysock.send(cmd)\n",
    "\n",
    "while True:\n",
    "    data = mysock.recv(512)\n",
    "    if len(data) < 1:\n",
    "        break\n",
    "    print(data.decode(),end='')\n",
    "\n",
    "mysock.close()"
   ]
  },
  {
   "cell_type": "markdown",
   "metadata": {},
   "source": [
    "### Scraping HTML Data with BeautifulSoup"
   ]
  },
  {
   "cell_type": "code",
   "execution_count": 5,
   "metadata": {},
   "outputs": [
    {
     "name": "stdout",
     "output_type": "stream",
     "text": [
      "Enter - \n",
      "Count 50 \n",
      "Sum 2701\n"
     ]
    }
   ],
   "source": [
    "from urllib.request import urlopen\n",
    "from bs4 import BeautifulSoup\n",
    "import ssl\n",
    "\n",
    "ctx = ssl.create_default_context()\n",
    "ctx.check_hostname = False\n",
    "ctx.verify_mode = ssl.CERT_NONE\n",
    "html = urlopen('http://py4e-data.dr-chuck.net/comments_952398.html', context=ctx).read()\n",
    "soup = BeautifulSoup(html, \"html.parser\")\n",
    "tags = soup('span')\n",
    "sum = 0\n",
    "coun = 0\n",
    "print('Enter - ')\n",
    "for tag in tags:\n",
    "    coun += 1    \n",
    "    sum += int(tag.contents[0])\n",
    "print('Count', coun, '\\nSum', sum)"
   ]
  },
  {
   "cell_type": "markdown",
   "metadata": {},
   "source": [
    "### Following Links in HTML Using BeautifulSoup"
   ]
  },
  {
   "cell_type": "code",
   "execution_count": 6,
   "metadata": {},
   "outputs": [
    {
     "name": "stdout",
     "output_type": "stream",
     "text": [
      "Enter URL: http://py4e-data.dr-chuck.net/known_by_Caelyn.html\n",
      "Enter count: 7\n",
      "Enter position: 18\n",
      "Retrieving:  http://py4e-data.dr-chuck.net/known_by_Caelyn.html\n",
      "Retrieving:  http://py4e-data.dr-chuck.net/known_by_Aedyn.html\n",
      "Retrieving:  http://py4e-data.dr-chuck.net/known_by_Afifah.html\n",
      "Retrieving:  http://py4e-data.dr-chuck.net/known_by_Naideen.html\n",
      "Retrieving:  http://py4e-data.dr-chuck.net/known_by_Selina.html\n",
      "Retrieving:  http://py4e-data.dr-chuck.net/known_by_Elidh.html\n",
      "Retrieving:  http://py4e-data.dr-chuck.net/known_by_Scarlett.html\n",
      "Retrieving:  http://py4e-data.dr-chuck.net/known_by_Anisa.html\n"
     ]
    }
   ],
   "source": [
    "import urllib.request, urllib.parse, urllib.error\n",
    "from bs4 import BeautifulSoup\n",
    "import ssl\n",
    "ctx = ssl.create_default_context()\n",
    "ctx.check_hostname = False\n",
    "ctx.verify_mode = ssl.CERT_NONE\n",
    "\n",
    "url = input('Enter URL: ')\n",
    "num = input('Enter count: ')\n",
    "pos = input('Enter position: ')\n",
    "print('Retrieving: ', url)\n",
    "for times in range(int(num)):\n",
    "    html = urllib.request.urlopen(url, context=ctx).read()\n",
    "    soup = BeautifulSoup(html, 'html.parser')\n",
    "    tags = soup('a')\n",
    "    print('Retrieving: ', tags[int(pos)-1].get('href', None))\n",
    "    url = tags[int(pos)-1].get('href', None)"
   ]
  },
  {
   "cell_type": "markdown",
   "metadata": {},
   "source": [
    "### Extracting Data from XML"
   ]
  },
  {
   "cell_type": "code",
   "execution_count": 1,
   "metadata": {},
   "outputs": [
    {
     "name": "stdout",
     "output_type": "stream",
     "text": [
      "Enter location: http://py4e-data.dr-chuck.net/comments_952400.xml\n",
      "Retrieving  http://py4e-data.dr-chuck.net/comments_952400.xml\n",
      "Retrieved 4216 characters\n",
      "Count:  50\n",
      "Sum:  2528\n"
     ]
    }
   ],
   "source": [
    "import urllib.request, urllib.parse, urllib.error\n",
    "import xml.etree.ElementTree as ET\n",
    "import ssl\n",
    "ctx = ssl.create_default_context()\n",
    "ctx.check_hostname = False\n",
    "ctx.verify_mode = ssl.CERT_NONE\n",
    "\n",
    "url = input('Enter location: ')\n",
    "print ('Retrieving ', url)\n",
    "html = urllib.request.urlopen(url, context=ctx).read()\n",
    "print ('Retrieved', len(html), 'characters')\n",
    "tree = ET.fromstring(html)\n",
    "print ('Count: ',len(tree.findall('.//count')))\n",
    "total = 0\n",
    "for r in tree.findall(\"./comments/comment\"):\n",
    "    total += int(r.find('count').text)\n",
    "print ('Sum: ', total)"
   ]
  },
  {
   "cell_type": "markdown",
   "metadata": {},
   "source": [
    "### Extracting Data from JSON"
   ]
  },
  {
   "cell_type": "code",
   "execution_count": 2,
   "metadata": {},
   "outputs": [
    {
     "name": "stdout",
     "output_type": "stream",
     "text": [
      "Enter location: http://py4e-data.dr-chuck.net/comments_952401.json\n",
      "Retrieving http://py4e-data.dr-chuck.net/comments_952401.json \n",
      "Retrieved 2729 caracters \n",
      "Count: 50\n",
      "Sum: 2595\n"
     ]
    }
   ],
   "source": [
    "import urllib.request, urllib.parse, urllib.error\n",
    "import json\n",
    "\n",
    "url = input('Enter location: ')\n",
    "data = urllib.request.urlopen(url).read()\n",
    "info = json.loads(data)\n",
    "info = info['comments']\n",
    "print ('Retrieving', url, '\\nRetrieved', len(data), 'caracters', '\\nCount:', len(info))\n",
    "num = 0\n",
    "for item in info:\n",
    "    num += int(item['count'])\n",
    "print ('Sum:', num)"
   ]
  },
  {
   "cell_type": "markdown",
   "metadata": {},
   "source": [
    "### Using the GeoJSON API"
   ]
  },
  {
   "cell_type": "code",
   "execution_count": 6,
   "metadata": {},
   "outputs": [
    {
     "name": "stdout",
     "output_type": "stream",
     "text": [
      "Enter location: Elon University\n",
      "Retrieving http://py4e-data.dr-chuck.net/json?address=Elon+University&key=42\n",
      "Retrieved 2298 characters\n",
      "Place id ChIJ3RFkxAkpU4gRCZzO6Zydjk4\n",
      "Enter location: \n"
     ]
    }
   ],
   "source": [
    "import urllib.request, urllib.parse, urllib.error\n",
    "import json\n",
    "import ssl\n",
    "\n",
    "api_key = False\n",
    "# If you have a Google Places API key, enter it here\n",
    "# api_key = 'AIzaSy___IDByT70'\n",
    "# https://developers.google.com/maps/documentation/geocoding/intro\n",
    "\n",
    "if api_key is False:\n",
    "    api_key = 42\n",
    "    serviceurl = 'http://py4e-data.dr-chuck.net/json?'\n",
    "else :\n",
    "    serviceurl = 'https://maps.googleapis.com/maps/api/geocode/json?'\n",
    "\n",
    "# Ignore SSL certificate errors\n",
    "ctx = ssl.create_default_context()\n",
    "ctx.check_hostname = False\n",
    "ctx.verify_mode = ssl.CERT_NONE\n",
    "\n",
    "while True:\n",
    "    address = input('Enter location: ')\n",
    "    if len(address) < 1: break\n",
    "\n",
    "    parms = dict()\n",
    "    parms['address'] = address\n",
    "    if api_key is not False: parms['key'] = api_key\n",
    "    url = serviceurl + urllib.parse.urlencode(parms)\n",
    "\n",
    "    print('Retrieving', url)\n",
    "    uh = urllib.request.urlopen(url, context=ctx)\n",
    "    data = uh.read().decode()\n",
    "    print('Retrieved', len(data), 'characters')\n",
    "\n",
    "    try:\n",
    "        js = json.loads(data)\n",
    "    except:\n",
    "        js = None\n",
    "\n",
    "    if not js or 'status' not in js or js['status'] != 'OK':\n",
    "        continue\n",
    "\n",
    "    location = js['results'][0]['place_id']\n",
    "    print('Place id', location)"
   ]
  },
  {
   "cell_type": "code",
   "execution_count": null,
   "metadata": {},
   "outputs": [],
   "source": []
  },
  {
   "cell_type": "code",
   "execution_count": null,
   "metadata": {},
   "outputs": [],
   "source": []
  }
 ],
 "metadata": {
  "kernelspec": {
   "display_name": "Python 3",
   "language": "python",
   "name": "python3"
  },
  "language_info": {
   "codemirror_mode": {
    "name": "ipython",
    "version": 3
   },
   "file_extension": ".py",
   "mimetype": "text/x-python",
   "name": "python",
   "nbconvert_exporter": "python",
   "pygments_lexer": "ipython3",
   "version": "3.8.3"
  }
 },
 "nbformat": 4,
 "nbformat_minor": 4
}
